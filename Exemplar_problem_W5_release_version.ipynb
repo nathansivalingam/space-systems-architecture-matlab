{
 "cells": [
  {
   "cell_type": "markdown",
   "metadata": {},
   "source": [
    "An earth satellite has the following orbital parameters\n",
    "\n",
    "Perigee: $$r_p=6700 km$$\n",
    "\n",
    "Apogee: $$r_a=10000 km$$\n",
    "\n",
    "True anomaly: $$\\theta_0=230^{\\circ}$$\n",
    "\n",
    "Right ascension of the ascending node: $$\\Omega_0=270^{\\circ}$$\n",
    "\n",
    "Inclination: $$i_0=60^{\\circ}$$\n",
    "\n",
    "Argument of perigee: $$\\omega_0=45^{\\circ}$$\n",
    "\n",
    "Calculate the right ascension (longitude east) and declination (latitude) relative to the rotating earth 45 min later (condier the $J_2$ perturbation ).\n"
   ]
  },
  {
   "cell_type": "code",
   "execution_count": 1,
   "metadata": {},
   "outputs": [],
   "source": [
    "# A priori information\n",
    "# !pip install numpy\n",
    "import math\n",
    "\n",
    "# constants\n",
    "mu = 398600.4418  # km^3/s^2\n",
    "J2 = 0.0010826266\n",
    "R_E = 6371  # km\n",
    "\n",
    "# Given values\n",
    "r_p = 6700  # km\n",
    "r_a = 10000  # km\n",
    "theta = math.radians(230)  # radians\n",
    "Omega = math.radians(270)  # radians\n",
    "i = math.radians(60)  # radians\n",
    "omega = math.radians(45)  # radians"
   ]
  },
  {
   "cell_type": "markdown",
   "metadata": {},
   "source": [
    "![Alt text](image.png)\n",
    "\n",
    "Geometry of an eclipse and its key parameters.\n",
    "\n",
    "**Step 1:**\n",
    "\n",
    "we compute the semimajor axis $a$, eccentricity $e$, the angular momentum $h$, and the period $T$ (Week 2)\n",
    "\n",
    "The values are:\n",
    "\n",
    "$$a=\\frac{r_p+r_a}{2}=8350 km$$\n",
    "\n",
    "$$e=\\frac{r_a-r_p}{r_p+r_a}=0.19760$$\n",
    "\n",
    "$$h=\\sqrt{\\mu r_p(1+e)}=56554 km^2/s$$\n",
    "\n",
    "$$T=2\\pi\\sqrt{\\frac{a^3}{\\mu}}=7593.5 s$$\n"
   ]
  },
  {
   "cell_type": "code",
   "execution_count": 2,
   "metadata": {},
   "outputs": [
    {
     "name": "stdout",
     "output_type": "stream",
     "text": [
      "a = 8350.00 km\n",
      "e = 0.19760\n",
      "h = 56553.96 km^2/s\n",
      "T = 7593.5 s\n"
     ]
    }
   ],
   "source": [
    "import math\n",
    "\n",
    "# Calculating a, e, h, T\n",
    "a = (r_p + r_a) / 2\n",
    "e = (r_a - r_p) / (r_p + r_a)\n",
    "h = math.sqrt(mu * r_p * (1 + e))\n",
    "T = 2 * math.pi * math.sqrt(a**3 / mu)\n",
    "\n",
    "# Printing the results\n",
    "print(f\"a = {a:.2f} km\")\n",
    "print(f\"e = {e:.5f}\")\n",
    "print(f\"h = {h:.2f} km^2/s\")\n",
    "print(f\"T = {T:.1f} s\")"
   ]
  },
  {
   "cell_type": "markdown",
   "metadata": {},
   "source": [
    "**Step 2:**\n",
    "\n",
    "calculate the nodal regression rate and apsidal rotation rate (Week 5)\n",
    "\n",
    "Nodal regression rate:\n",
    "$$\\dot{\\Omega} = -\\frac{3\\sqrt{\\mu}J_2R_E^2\\cos i}{2a^{7/2}(1-e^2)^2} = -2.3394\\times10^{-7} \\text{ °/s}$$\n",
    "\n",
    "Apsidal rotation rate:\n",
    "$$\\dot{\\omega} = \\frac{3\\sqrt{\\mu}J_2R_E^2(4-5\\sin^2 i)}{4a^{7/2}(1-e^2)^2} = 5.8484\\times10^{-6} \\text{ °/s}$$\n",
    "\n",
    "where $\\mu$ is the gravitational parameter of Earth, $J_2$ is the second zonal harmonic coefficient of Earth, $R_E$ is the equatorial radius of Earth, $i$ is the inclination of the satellite's orbit, $a$ is the semimajor axis of the satellite's orbit, and $e$ is the eccentricity of the satellite's orbit.\n"
   ]
  },
  {
   "cell_type": "code",
   "execution_count": 3,
   "metadata": {},
   "outputs": [],
   "source": [
    "# write your codes here"
   ]
  },
  {
   "cell_type": "markdown",
   "metadata": {},
   "source": [
    "![Alt text](image-1.png)\n",
    "\n",
    "Mean, eccentric and true anomalies.\n",
    "\n",
    "**Step 3:**\n",
    "\n",
    "The initial reference time epoch $t_0$ can be calculated using Kepler's equation as follows (Week 3):\n",
    "\n",
    "$$E_0 = 2 \\tan^{-1} \\left(\\sqrt{\\frac{1-e}{1+e}} \\tan \\frac{\\theta_0}{2}\\right) = -2.1059 \\text{ rad}$$\n",
    "\n",
    "$$M_0 = E_0 - e \\sin E_0 = -1.9360 \\text{ rad}$$\n",
    "\n",
    "$$t_0 = \\frac{M_0}{2\\pi T} = -2339.7 \\text{ s} \\quad (2339.7 \\text{ s until perigee})$$\n",
    "\n",
    "where $e$ is the eccentricity, $\\theta_0$ is the true anomaly at the initial reference time epoch, $E_0$ is the eccentric anomaly at the initial reference time epoch, $M_0$ is the mean anomaly at the initial reference time epoch, and $T$ is the orbital period.\n"
   ]
  },
  {
   "cell_type": "code",
   "execution_count": 4,
   "metadata": {},
   "outputs": [],
   "source": [
    "# write your codes here"
   ]
  },
  {
   "cell_type": "markdown",
   "metadata": {},
   "source": [
    "**Step 4:**\n",
    "\n",
    "The orbital elements at $t = t_0 + \\Delta t = 360.33$ s can be calculated as follows (Week 3):\n",
    "\n",
    "$$M = 2\\pi \\frac{t}{T} = 0.29815 \\text{ rad}$$\n",
    "\n",
    "Solving for $E$ from the Keplerian equation $M = E - e \\sin E$:\n",
    "\n",
    "$$E = 0.36952 \\text{ rad}$$\n",
    "\n",
    "Calculating the true anomaly $\\theta$:\n",
    "\n",
    "$$\\theta = 2 \\tan^{-1} \\left(\\sqrt{\\frac{1+e}{1-e}} \\tan \\frac{E}{2}\\right) = 25.723^\\circ$$\n",
    "\n",
    "Calculating the right ascension of the ascending node $\\Omega$:\n",
    "\n",
    "$$\\Omega = \\Omega_0 + \\dot{\\Omega} \\Delta t = 269.94^\\circ$$\n",
    "\n",
    "Calculating the argument of perigee $\\omega$ (Week 5):\n",
    "\n",
    "$$\\omega = \\omega_0 + \\dot{\\omega} \\Delta t = 45.016^\\circ$$\n",
    "\n",
    "where $e$ is the eccentricity, $T$ is the orbital period, $\\Delta t$ is the time elapsed since the initial reference time epoch, $M$ is the mean anomaly, $E$ is the eccentric anomaly, $\\theta$ is the true anomaly, $\\Omega_0$ is the right ascension of the ascending node at the initial reference time epoch, $\\dot{\\Omega}$ is the nodal regression rate, $\\omega_0$ is the argument of perigee at the initial reference time epoch, and $\\dot{\\omega}$ is the apsidal rotation rate.\n"
   ]
  },
  {
   "cell_type": "code",
   "execution_count": 5,
   "metadata": {},
   "outputs": [],
   "source": [
    "# write your codes here"
   ]
  },
  {
   "cell_type": "markdown",
   "metadata": {},
   "source": [
    "![Alt text](image-2.png)![Alt text](image-3.png)\n",
    "\n",
    "The perifocal frame and the geocentric equatorial frame (with orbital elements defined).\n",
    "\n",
    "**Step 5:**\n",
    "\n",
    "The orbital state in the perifocal frame can be calculated as follows (Week 2):\n",
    "\n",
    "$$\\mathbf{r}_{\\bar{x}} = \\frac{a(1-e^2)}{1+e\\cos\\theta} \\begin{bmatrix}\\cos\\theta & \\sin\\theta & 0\\end{bmatrix}^T$$\n",
    "\n",
    "where $a$ is the semi-major axis, $\\mu$ is the gravitational parameter, $e$ is the eccentricity, $\\theta$ is the true anomaly.\n",
    "\n",
    "The transformation matrix from the perifocal frame to the geocentric equatorial frame is given by (Week 5):\n",
    "\n",
    "$$\\mathbf{Q}_{\\bar{x}X} = \\begin{bmatrix} \\cos\\Omega\\cos\\omega - \\sin\\Omega\\cos i\\sin\\omega & -\\cos\\Omega\\sin\\omega - \\sin\\Omega\\cos i\\cos\\omega & \\sin\\Omega\\sin i \\\\ \\sin\\Omega\\cos\\omega + \\cos\\Omega\\cos i\\sin\\omega & -\\sin\\Omega\\sin\\omega + \\cos\\Omega\\cos i\\cos\\omega & -\\cos\\Omega\\sin i \\\\ \\sin i\\sin\\omega & \\sin i\\cos\\omega & \\cos i \\end{bmatrix}$$\n",
    "\n",
    "where $i$ is the inclination, $\\Omega$ is the right ascension of the ascending node, and $\\omega$ is the argument of perigee.\n",
    "\n",
    "The geocentric equatorial position vector is given by:\n",
    "\n",
    "$$\\mathbf{r}_X = \\mathbf{Q}_{\\bar{x}X} \\mathbf{r}_{\\bar{x}}$$\n",
    "\n",
    "where $\\mathbf{r}_{\\bar{x}}$ is the position vector in the perifocal frame.\n",
    "\n",
    "Putting it all together, the geocentric equatorial position vector can be calculated as:\n",
    "\n",
    "$$\\mathbf{r}_X = \\begin{bmatrix}3212.6 \\\\ -2250.5 \\\\ 5568.6\\end{bmatrix} \\text{ km}$$\n",
    "\n",
    "where the values in the vector are taken from the given data.\n"
   ]
  },
  {
   "cell_type": "code",
   "execution_count": 6,
   "metadata": {},
   "outputs": [],
   "source": [
    "# write your codes here"
   ]
  },
  {
   "cell_type": "markdown",
   "metadata": {},
   "source": [
    "![Earth-centered inertial frame (XYZ); earth-centered noninertial x0y0z0 frame embedded in and rotating with the earth; and a noninertial, topocentric-horizon frame xyz attached to a point O on the earth’s surface.](image-7.png)\n",
    "\n",
    "Earth-centered inertial frame (XYZ); earth-centered noninertial x0y0z0 frame embedded in and rotating with the earth; and a noninertial, topocentric-horizon frame xyz attached to a point O on the earth’s surface.\n",
    "\n",
    "**Step 6:**\n",
    "\n",
    "The Earth rotation matrix can be calculated as follows:\n",
    "\n",
    "$$\\theta_E = \\omega_E \\Delta t = 7.2921158553 \\times 10^{-5} \\times 2700 \\times \\frac{180}{\\pi} = 11.281^\\circ$$\n",
    "\n",
    "where $\\omega_E$ is the Earth's rotation rate, $\\Delta t$ is the time elapsed since the reference time.\n",
    "\n",
    "The rotation matrix about the z-axis by an angle $\\theta_E$ is given by (Week 5):\n",
    "\n",
    "$$\\mathbf{R}_3(\\theta_E) = \\begin{bmatrix} \\cos\\theta_E & \\sin\\theta_E & 0 \\\\ -\\sin\\theta_E & \\cos\\theta_E & 0 \\\\ 0 & 0 & 1 \\end{bmatrix}$$\n",
    "\n",
    "The geocentric Earth-centered Earth-fixed (ECEF) position vector is given by:\n",
    "\n",
    "$$\\mathbf{r}_{X'} = \\mathbf{R}_3(\\theta_E) \\mathbf{r}_X$$\n",
    "\n",
    "where $\\mathbf{r}_X$ is the position vector in the geocentric equatorial frame.\n",
    "\n",
    "Putting it all together, the geocentric ECEF position vector can be calculated as:\n",
    "\n",
    "$$\\mathbf{r}_{X'} = \\begin{bmatrix}2710.3 \\\\ -2835.4 \\\\ 5568.6\\end{bmatrix} \\text{ km}$$\n",
    "\n",
    "where the values in the vector are taken from the given data.\n"
   ]
  },
  {
   "cell_type": "code",
   "execution_count": 7,
   "metadata": {},
   "outputs": [],
   "source": [
    "# write your codes here"
   ]
  },
  {
   "cell_type": "markdown",
   "metadata": {},
   "source": [
    "![Alt text](image-5.png)\n",
    "\n",
    "The geocentric equatorial frame.\n",
    "\n",
    "**Step 7:**\n",
    "\n",
    "To convert the geocentric ECEF position vector to geodetic coordinates, we can use the following equations (Week 4):\n",
    "\n",
    "$$\\mathbf{r}_{X'} = X'\\mathbf{i} + Y'\\mathbf{j} + Z'\\mathbf{k}$$\n",
    "\n",
    "where $\\mathbf{i}$, $\\mathbf{j}$, and $\\mathbf{k}$ are the unit vectors in the ECEF coordinate system.\n",
    "\n",
    "The magnitude of the position vector is given by:\n",
    "\n",
    "$$r_{X'} = \\sqrt{X'^2 + Y'^2 + Z'^2}$$\n",
    "\n",
    "The direction cosines are given by:\n",
    "\n",
    "$$l = \\frac{X'}{r_{X'}}, \\quad m = \\frac{Y'}{r_{X'}}, \\quad n = \\frac{Z'}{r_{X'}}$$\n",
    "\n",
    "The geodetic latitude is given by:\n",
    "\n",
    "$$\\phi = \\sin^{-1}(n)$$\n",
    "\n",
    "The geodetic longitude is given by:\n",
    "\n",
    "$$\\lambda = 360^\\circ - \\cos^{-1}\\left(\\frac{l}{\\cos\\phi}\\right)$$\n",
    "\n",
    "because the second component of the position vector $r_{X'}$ is negative.\n"
   ]
  },
  {
   "cell_type": "code",
   "execution_count": 8,
   "metadata": {},
   "outputs": [],
   "source": [
    "# write your codes here"
   ]
  }
 ],
 "metadata": {
  "kernelspec": {
   "display_name": "Python 3",
   "language": "python",
   "name": "python3"
  },
  "language_info": {
   "codemirror_mode": {
    "name": "ipython",
    "version": 3
   },
   "file_extension": ".py",
   "mimetype": "text/x-python",
   "name": "python",
   "nbconvert_exporter": "python",
   "pygments_lexer": "ipython3",
   "version": "3.12.6"
  }
 },
 "nbformat": 4,
 "nbformat_minor": 2
}
